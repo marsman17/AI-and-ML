{
 "cells": [
  {
   "cell_type": "code",
   "execution_count": null,
   "id": "d348f086-af3c-4e0e-9247-f48e7b8422d8",
   "metadata": {},
   "outputs": [],
   "source": [
    "from flask import Flask, render_template, request, redirect, url_for\n",
    "import os\n",
    "from werkzeug.utils import secure_filename\n",
    "import json\n",
    "import torch\n",
    "from read import run_ocr\n",
    "\n",
    "app = Flask(__name__)\n",
    "\n",
    "UPLOAD_FOLDER = '/Users/Smart/UTRNet-High-Resolution-Urdu-Text-Recognition/templates'\n",
    "os.makedirs(UPLOAD_FOLDER, exist_ok=True)\n",
    "app.config['UPLOAD_FOLDER'] = UPLOAD_FOLDER\n",
    "\n",
    "def load_config(config_path='config.json'):\n",
    "    with open(config_path, 'r') as f:\n",
    "        return json.load(f)\n",
    "\n",
    "@app.route('/')\n",
    "def home():\n",
    "    arabic_text = \"<p style='font-size: 36px; text-align: center;'>بسم الله الرحمن الرحيم</p><p style='font-size: 36px; text-align: center;'>الحمد لله رب العالمين</p><p style='font-size: 36px; text-align: center;'>اللهم صل على سيدنا محمد وعلى آله وسلم</p>\"\n",
    "    return render_template('home.html', text=arabic_text)\n",
    "\n",
    "@app.route('/upload', methods=['GET', 'POST'])\n",
    "def upload():\n",
    "    if request.method == 'POST':\n",
    "        if 'image' not in request.files:\n",
    "            return 'No image part'\n",
    "        file = request.files['image']\n",
    "        if file.filename == '':\n",
    "            return 'No selected file'\n",
    "        if file:\n",
    "            filename = secure_filename(file.filename)\n",
    "            image_path = os.path.join(app.config['UPLOAD_FOLDER'], filename)\n",
    "            file.save(image_path)\n",
    "            \n",
    "            config = load_config()\n",
    "            config['image_path'] = image_path\n",
    "            \n",
    "            device = torch.device(f\"cuda:{config['device_id']}\" if torch.cuda.is_available() and config['device_id'] else 'cpu')\n",
    "            config['device'] = device\n",
    "            \n",
    "            class Struct:\n",
    "                def __init__(self, **entries):\n",
    "                    self.__dict__.update(entries)\n",
    "            \n",
    "            opt = Struct(**config)\n",
    "            \n",
    "            # Run OCR using the custom read.py script\n",
    "            imgt = run_ocr(opt, device)\n",
    "            return render_template('image_output.html', img_result=imgt)\n",
    "    return render_template('upload.html')\n",
    "\n",
    "if __name__ == '__main__':\n",
    "    app.run(debug=False)\n"
   ]
  },
  {
   "cell_type": "code",
   "execution_count": null,
   "id": "77a7e088-63f6-4dd6-b040-b64e18c550c1",
   "metadata": {},
   "outputs": [],
   "source": []
  }
 ],
 "metadata": {
  "kernelspec": {
   "display_name": "Python 3 (ipykernel)",
   "language": "python",
   "name": "python3"
  },
  "language_info": {
   "codemirror_mode": {
    "name": "ipython",
    "version": 3
   },
   "file_extension": ".py",
   "mimetype": "text/x-python",
   "name": "python",
   "nbconvert_exporter": "python",
   "pygments_lexer": "ipython3",
   "version": "3.11.7"
  }
 },
 "nbformat": 4,
 "nbformat_minor": 5
}
